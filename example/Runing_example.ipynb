{
 "cells": [
  {
   "cell_type": "code",
   "execution_count": 1,
   "metadata": {},
   "outputs": [
    {
     "ename": "ModuleNotFoundError",
     "evalue": "No module named 'matplotlib'",
     "output_type": "error",
     "traceback": [
      "\u001b[1;31m---------------------------------------------------------------------------\u001b[0m",
      "\u001b[1;31mModuleNotFoundError\u001b[0m                       Traceback (most recent call last)",
      "\u001b[1;32mc:\\Users\\alex\\repos\\MyPTV\\example\\Runing_example.ipynb Cell 1'\u001b[0m in \u001b[0;36m<cell line: 9>\u001b[1;34m()\u001b[0m\n\u001b[0;32m      <a href='vscode-notebook-cell:/c%3A/Users/alex/repos/MyPTV/example/Runing_example.ipynb#ch0000000?line=4'>5</a>\u001b[0m \u001b[39mfrom\u001b[39;00m \u001b[39mmyptv\u001b[39;00m\u001b[39m.\u001b[39;00m\u001b[39mimaging_mod\u001b[39;00m \u001b[39mimport\u001b[39;00m camera, img_system\n\u001b[0;32m      <a href='vscode-notebook-cell:/c%3A/Users/alex/repos/MyPTV/example/Runing_example.ipynb#ch0000000?line=7'>8</a>\u001b[0m \u001b[39mimport\u001b[39;00m \u001b[39mnumpy\u001b[39;00m \u001b[39mas\u001b[39;00m \u001b[39mnp\u001b[39;00m\n\u001b[1;32m----> <a href='vscode-notebook-cell:/c%3A/Users/alex/repos/MyPTV/example/Runing_example.ipynb#ch0000000?line=8'>9</a>\u001b[0m \u001b[39mimport\u001b[39;00m \u001b[39mmatplotlib\u001b[39;00m\u001b[39m.\u001b[39;00m\u001b[39mpyplot\u001b[39;00m \u001b[39mas\u001b[39;00m \u001b[39mplt\u001b[39;00m\n\u001b[0;32m     <a href='vscode-notebook-cell:/c%3A/Users/alex/repos/MyPTV/example/Runing_example.ipynb#ch0000000?line=9'>10</a>\u001b[0m \u001b[39mfrom\u001b[39;00m \u001b[39mskimage\u001b[39;00m \u001b[39mimport\u001b[39;00m color, io\n\u001b[0;32m     <a href='vscode-notebook-cell:/c%3A/Users/alex/repos/MyPTV/example/Runing_example.ipynb#ch0000000?line=10'>11</a>\u001b[0m \u001b[39mfrom\u001b[39;00m \u001b[39mskimage\u001b[39;00m \u001b[39mimport\u001b[39;00m io\n",
      "\u001b[1;31mModuleNotFoundError\u001b[0m: No module named 'matplotlib'"
     ]
    }
   ],
   "source": [
    "import os, sys\n",
    "# sys.path.append('./../')\n",
    "\n",
    "from myptv.calibrate_mod import calibrate\n",
    "from myptv.imaging_mod import camera, img_system\n",
    "\n",
    "\n",
    "import numpy as np\n",
    "import matplotlib.pyplot as plt\n",
    "from skimage import color, io"
   ]
  },
  {
   "cell_type": "markdown",
   "metadata": {},
   "source": [
    "# estimate camera internal parameters:\n",
    "\n",
    "\n",
    "First we estimate the focal distance of my camera (a Samsung J2 core front camera). We do this by placing the camera at a known location and taking an image of an object with a known size (I used a ruler)"
   ]
  },
  {
   "cell_type": "code",
   "execution_count": null,
   "metadata": {},
   "outputs": [],
   "source": [
    "# manually extracted two calication points:\n",
    "calPointsParams = {1: [(0., -25., 0.), (1570, 1490)],\n",
    "                   2: [(0.,  85., 0.), (1567, 419) ]}"
   ]
  },
  {
   "cell_type": "code",
   "execution_count": null,
   "metadata": {},
   "outputs": [],
   "source": [
    "img_internalCal = color.rgb2gray(io.imread('CalInternalParams.jpg'))\n",
    "\n",
    "\n",
    "fig, ax = plt.subplots()\n",
    "fig.set_size_inches(8,8)\n",
    "ax.imshow(img_internalCal, cmap='gray')\n",
    "\n",
    "for k in calPointsParams.keys():\n",
    "    ax.plot(calPointsParams[k][1][0], calPointsParams[k][1][1], 'ob', ms=4)\n"
   ]
  },
  {
   "cell_type": "markdown",
   "metadata": {},
   "source": [
    "#### estimating f manually:\n",
    "\n",
    "We first enter the position and orientation of the camera, and a guess of the focal length f. We then use the calibrate class to project points (red crosses) and correct our guess of f, untill we get a good agreement:"
   ]
  },
  {
   "cell_type": "code",
   "execution_count": null,
   "metadata": {},
   "outputs": [],
   "source": [
    "labCoordsCal = [calPointsParams[k][0] for k in sorted(calPointsParams.keys())]\n",
    "imgCoordsCal = [calPointsParams[k][1] for k in sorted(calPointsParams.keys())]\n",
    "cam_resolution = 3264, 2448\n",
    "\n",
    "\n",
    "camCal = camera('camCal', cam_resolution)   # <-- camera class\n",
    "\n",
    "\n",
    "# give initial guess for camera parameters:\n",
    "camCal.O = np.array([7., 1.35, 312.0])      # <-- measured imaging center\n",
    "camCal.theta = np.array([3.14, 0.0, 0.0])   # <-- measured camera orientation\n",
    "camCal.f = 3020                               # <-- guesses for the focal length\n",
    "camCal.calc_R()\n",
    "\n",
    "calCal = calibrate(camCal,labCoordsCal, imgCoordsCal)  # <-- the calibrate class used for projections\n",
    "\n",
    "\n",
    "# plot our guesses:\n",
    "fig, ax = plt.subplots()\n",
    "calCal.plot_proj(ax=ax)\n",
    "ax.set_xlim(1400,1800)"
   ]
  },
  {
   "cell_type": "markdown",
   "metadata": {},
   "source": [
    "# mark calibration points:"
   ]
  },
  {
   "cell_type": "markdown",
   "metadata": {},
   "source": [
    "##### data from the calibration images extracted manually:"
   ]
  },
  {
   "cell_type": "code",
   "execution_count": null,
   "metadata": {},
   "outputs": [],
   "source": [
    "# for uncropped images:\n",
    "\n",
    "img1 = color.rgb2gray(io.imread('cal1.jpg'))\n",
    "img2 = color.rgb2gray(io.imread('cal2.jpg'))\n",
    "\n",
    "calPoints_1 = {1: [(0. , 0., 0.), (1099, 1741)],\n",
    "               2: [(30. , 0., 0.),(1385, 1800)],\n",
    "               3: [(60., 0., 0.), (1690, 1862)],\n",
    "               5: [(30.,40., 0.), (1415, 1411)],\n",
    "               6: [(60.,40., 0.), (1739, 1466)],\n",
    "               7: [(0., 70., 0.), (1121, 1052)],\n",
    "               8: [(30.,70., 0.), (1440, 1094)],\n",
    "               9: [(60.,70., 0.), (1781, 1138)]}\n",
    "\n",
    "\n",
    "calPoints_2 = {1: [(0. , 0., 0.), (1017, 1595) ],\n",
    "               2: [(30., 0., 0.), (1306, 1572) ],\n",
    "               3: [(60., 0., 0.), (1582, 1550) ],\n",
    "               5: [(30.,40., 0.), (1314, 1188) ],\n",
    "               6: [(60.,40., 0.), (1604, 1173) ],\n",
    "               7: [(0., 70., 0.), (1008, 888 ) ],\n",
    "               8: [(30.,70., 0.), (1321, 879 ) ],\n",
    "               9: [(60.,70., 0.), (1623, 868 ) ]}"
   ]
  },
  {
   "cell_type": "markdown",
   "metadata": {},
   "source": [
    "#### Show the images and mark the given coordinates:"
   ]
  },
  {
   "cell_type": "code",
   "execution_count": null,
   "metadata": {},
   "outputs": [],
   "source": [
    "%matplotlib inline\n",
    "\n",
    "fig, ax = plt.subplots(1, 2)\n",
    "fig.set_size_inches(10,8)\n",
    "\n",
    "ax[0].imshow(img1, cmap='gray')\n",
    "ax[1].imshow(img2, cmap='gray')\n",
    "\n",
    "\n",
    "for k in calPoints_1:\n",
    "    ax[0].plot(calPoints_1[k][1][0], calPoints_1[k][1][1], 'bo')\n",
    "    ax[0].text(calPoints_1[k][1][0], calPoints_1[k][1][1], str(k))\n",
    "    \n",
    "    \n",
    "for k in calPoints_2:\n",
    "    ax[1].plot(calPoints_2[k][1][0], calPoints_2[k][1][1], 'bo')\n",
    "    ax[1].text(calPoints_2[k][1][0], calPoints_2[k][1][1], str(k))"
   ]
  },
  {
   "cell_type": "markdown",
   "metadata": {},
   "source": [
    "# Calibrate cameras:"
   ]
  },
  {
   "cell_type": "markdown",
   "metadata": {},
   "source": [
    "### camera 1:"
   ]
  },
  {
   "cell_type": "code",
   "execution_count": null,
   "metadata": {},
   "outputs": [],
   "source": [
    "imgCoords_1 = [np.array(calPoints_1[k][1]) for k in sorted(calPoints_1)]\n",
    "labCoords1 = [np.array(calPoints_1[k][0]) for k in sorted(calPoints_1)]\n",
    "\n",
    "cam_resolution = 3264, 2448\n",
    "\n",
    "cam1 = camera('cam1', img1.shape)\n",
    "\n",
    "\n",
    "# give initial guess for camera parameters:\n",
    "cam1.O = np.array([105.0, 72.0, 300.0])\n",
    "cam1.theta = np.array([3.14, -0.18, -0.18])\n",
    "cam1.f=3020\n",
    "cam1.calc_R()\n",
    "\n",
    "cal1 = calibrate(cam1,labCoords1, imgCoords_1)\n",
    "\n",
    "# plot initial guess\n",
    "cal1.plot_proj()"
   ]
  },
  {
   "cell_type": "code",
   "execution_count": null,
   "metadata": {},
   "outputs": [],
   "source": [
    "# optimize camera parameters three times and plot:\n",
    "for i in range(3):\n",
    "    cal1.searchCalibration()\n",
    "    \n",
    "#cal1.searchCalibration(fix_f=False)\n",
    "\n",
    "cal1.plot_proj()"
   ]
  },
  {
   "cell_type": "code",
   "execution_count": null,
   "metadata": {},
   "outputs": [],
   "source": [
    "print('O: ', cam1.O)\n",
    "print('theta: ', cam1.theta)\n",
    "print('f: ', cam1.f)"
   ]
  },
  {
   "cell_type": "markdown",
   "metadata": {},
   "source": [
    "### camera 2:"
   ]
  },
  {
   "cell_type": "code",
   "execution_count": null,
   "metadata": {},
   "outputs": [],
   "source": [
    "imgCoords_2 = [np.array(calPoints_2[k][1]) for k in sorted(calPoints_2)]\n",
    "labCoords2 = [np.array(calPoints_2[k][0]) for k in sorted(calPoints_2)]\n",
    "\n",
    "cam_resolution = 3264, 2448\n",
    "\n",
    "cam2 = camera('cam2', img2.shape)\n",
    "\n",
    "\n",
    "# give initial guess for camera parameters:\n",
    "cam2.O = np.array([-55.0, 50.0, 320.0])\n",
    "cam2.theta = np.array([3.15, 0.35, 0.15])\n",
    "cam2.f = 3020\n",
    "cam2.calc_R()\n",
    "\n",
    "cal2 = calibrate(cam2,labCoords2, imgCoords_2)\n",
    "\n",
    "# plot initial guess\n",
    "cal2.plot_proj()"
   ]
  },
  {
   "cell_type": "code",
   "execution_count": null,
   "metadata": {},
   "outputs": [],
   "source": [
    "# optimize camera parameters three times and plot:\n",
    "for i in range(3):\n",
    "    cal2.searchCalibration()\n",
    "    \n",
    "#cal2.searchCalibration(fix_f=False)\n",
    "    \n",
    "# plot initial guess\n",
    "cal2.plot_proj()"
   ]
  },
  {
   "cell_type": "code",
   "execution_count": null,
   "metadata": {},
   "outputs": [],
   "source": [
    "print('O: ', cam2.O)\n",
    "print('theta: ', cam2.theta)\n",
    "print('f: ', cam2.f)"
   ]
  },
  {
   "cell_type": "markdown",
   "metadata": {},
   "source": [
    "# Finding the location of coordinate point 4:"
   ]
  },
  {
   "cell_type": "code",
   "execution_count": null,
   "metadata": {},
   "outputs": [],
   "source": [
    "particleCoords = {0: (1107, 1363),\n",
    "                  1: (1012, 1202)}"
   ]
  },
  {
   "cell_type": "code",
   "execution_count": null,
   "metadata": {},
   "outputs": [],
   "source": [
    "fig, ax = plt.subplots(1, 2)\n",
    "fig.set_size_inches(10,8)\n",
    "\n",
    "ax[0].imshow(img1, cmap='gray')\n",
    "ax[1].imshow(img2, cmap='gray')\n",
    "\n",
    "for k in particleCoords.keys():\n",
    "    ax[k].plot(particleCoords[k][0], particleCoords[k][1], 'bo', ms=3)\n"
   ]
  },
  {
   "cell_type": "code",
   "execution_count": null,
   "metadata": {},
   "outputs": [],
   "source": [
    "# setting up an imaging system for stereo matching:\n",
    "imgSys = img_system([cam1, cam2])\n",
    "\n",
    "\n",
    "# solving stereo matching:\n",
    "d_max = 5.0\n",
    "position, cameras, epiDistance = imgSys.stereo_match(particleCoords, d_max)\n",
    "\n",
    "print('estimated position: ', position)\n",
    "print('epipolar distance: ', epiDistance)\n",
    "print('absolute error: ', np.linalg.norm(position - np.array([0.0, 40.0, 0.0])))"
   ]
  },
  {
   "cell_type": "markdown",
   "metadata": {},
   "source": [
    "# Finding the location of the tip of the pen:"
   ]
  },
  {
   "cell_type": "code",
   "execution_count": null,
   "metadata": {},
   "outputs": [],
   "source": [
    "# the image space coordinates of the tip of the pen:\n",
    "\n",
    "particleCoords = {0: (912 , 1852),\n",
    "                  1: (1086, 1672)}\n"
   ]
  },
  {
   "cell_type": "code",
   "execution_count": null,
   "metadata": {},
   "outputs": [],
   "source": [
    "fig, ax = plt.subplots(1, 2)\n",
    "fig.set_size_inches(10,8)\n",
    "\n",
    "ax[0].imshow(img1, cmap='gray')\n",
    "ax[1].imshow(img2, cmap='gray')\n",
    "\n",
    "for k in particleCoords.keys():\n",
    "    ax[k].plot(particleCoords[k][0], particleCoords[k][1], 'bo', ms=3)\n"
   ]
  },
  {
   "cell_type": "code",
   "execution_count": null,
   "metadata": {},
   "outputs": [],
   "source": [
    "# setting up an imaging system for stereo matching:\n",
    "imgSys = img_system([cam1, cam2])"
   ]
  },
  {
   "cell_type": "code",
   "execution_count": null,
   "metadata": {},
   "outputs": [],
   "source": [
    "# solving stereo matching:\n",
    "\n",
    "d_max = 500.0\n",
    "\n",
    "# solving stereo matching:\n",
    "d_max = 5.0\n",
    "position, cameras, epiDistance = imgSys.stereo_match(particleCoords, d_max)\n",
    "\n",
    "print('estimated position: ', position)\n",
    "print('epipolar distance: ', epiDistance)"
   ]
  }
 ],
 "metadata": {
  "kernelspec": {
   "display_name": "Python 3",
   "language": "python",
   "name": "python3"
  },
  "language_info": {
   "codemirror_mode": {
    "name": "ipython",
    "version": 3
   },
   "file_extension": ".py",
   "mimetype": "text/x-python",
   "name": "python",
   "nbconvert_exporter": "python",
   "pygments_lexer": "ipython3",
   "version": "3.9.12"
  }
 },
 "nbformat": 4,
 "nbformat_minor": 4
}
